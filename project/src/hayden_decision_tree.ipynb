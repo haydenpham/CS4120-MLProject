{
 "cells": [
  {
   "metadata": {
    "ExecuteTime": {
     "end_time": "2025-10-31T23:41:07.112788Z",
     "start_time": "2025-10-31T23:41:07.108613Z"
    }
   },
   "cell_type": "code",
   "source": [
    "import numpy as np\n",
    "import pandas as pd\n",
    "import matplotlib.pyplot as plt\n",
    "from sklearn.model_selection import train_test_split, GridSearchCV\n",
    "from sklearn.tree import DecisionTreeRegressor\n",
    "from sklearn.metrics import mean_squared_error, r2_score\n",
    "from sklearn.preprocessing import LabelEncoder\n",
    "import warnings\n",
    "warnings.filterwarnings('ignore')\n"
   ],
   "id": "2769aec3087757d0",
   "outputs": [],
   "execution_count": 405
  },
  {
   "metadata": {
    "ExecuteTime": {
     "end_time": "2025-10-31T23:41:07.137489Z",
     "start_time": "2025-10-31T23:41:07.123842Z"
    }
   },
   "cell_type": "code",
   "source": [
    "# Step 1: Load the data\n",
    "train_data = pd.read_csv('../data/train.csv')\n"
   ],
   "id": "370b2fd47e6bf6c0",
   "outputs": [],
   "execution_count": 406
  },
  {
   "metadata": {
    "ExecuteTime": {
     "end_time": "2025-10-31T23:41:07.147093Z",
     "start_time": "2025-10-31T23:41:07.142643Z"
    }
   },
   "cell_type": "code",
   "source": [
    "# Step 2: Data Preprocessing\n",
    "\n",
    "# Separate features and target\n",
    "X = train_data.drop(['Id', 'SalePrice'], axis=1)\n",
    "y = train_data['SalePrice']\n",
    "\n",
    "# Identify numeric and categorical columns\n",
    "numeric_features = X.select_dtypes(include=[np.number]).columns.tolist()\n",
    "categorical_features = X.select_dtypes(include=['object']).columns.tolist()\n"
   ],
   "id": "35d4c897b6e66971",
   "outputs": [],
   "execution_count": 407
  },
  {
   "metadata": {
    "ExecuteTime": {
     "end_time": "2025-10-31T23:41:07.155614Z",
     "start_time": "2025-10-31T23:41:07.150597Z"
    }
   },
   "cell_type": "code",
   "source": [
    "# Step 2.1: Remove low variance columns (variance threshold = 0.01 for numeric features)\n",
    "from sklearn.feature_selection import VarianceThreshold\n",
    "\n",
    "# For numeric features only\n",
    "numeric_data = X[numeric_features]\n",
    "var_threshold = VarianceThreshold(threshold=0.01)\n",
    "var_threshold.fit(numeric_data)\n",
    "low_var_cols = [col for col, var in zip(numeric_features, var_threshold.variances_) if var < 0.01]\n",
    "\n",
    "# Remove low variance columns\n",
    "X = X.drop(columns=low_var_cols)\n",
    "numeric_features = [col for col in numeric_features if col not in low_var_cols]\n"
   ],
   "id": "1b2fbac825b0436c",
   "outputs": [],
   "execution_count": 408
  },
  {
   "metadata": {
    "ExecuteTime": {
     "end_time": "2025-10-31T23:41:07.171593Z",
     "start_time": "2025-10-31T23:41:07.159211Z"
    }
   },
   "cell_type": "code",
   "source": [
    "# Step 2.2: Fill missing values\n",
    "missing_counts = X.isnull().sum()\n",
    "print(missing_counts[missing_counts > 0])\n",
    "\n",
    "# Fill numeric columns with mean\n",
    "for col in numeric_features:\n",
    "    if X[col].isnull().any():\n",
    "        X.loc[:, col] = X[col].fillna(X[col].mean())\n",
    "\n",
    "# Fill categorical columns with mode\n",
    "for col in categorical_features:\n",
    "    if X[col].isnull().any():\n",
    "        X.loc[:, col] = X[col].fillna(X[col].mode()[0])\n"
   ],
   "id": "7465449c6e5617d8",
   "outputs": [
    {
     "name": "stdout",
     "output_type": "stream",
     "text": [
      "LotFrontage      259\n",
      "Alley           1369\n",
      "MasVnrType       872\n",
      "MasVnrArea         8\n",
      "BsmtQual          37\n",
      "BsmtCond          37\n",
      "BsmtExposure      38\n",
      "BsmtFinType1      37\n",
      "BsmtFinType2      38\n",
      "Electrical         1\n",
      "FireplaceQu      690\n",
      "GarageType        81\n",
      "GarageYrBlt       81\n",
      "GarageFinish      81\n",
      "GarageQual        81\n",
      "GarageCond        81\n",
      "PoolQC          1453\n",
      "Fence           1179\n",
      "MiscFeature     1406\n",
      "dtype: int64\n"
     ]
    }
   ],
   "execution_count": 409
  },
  {
   "metadata": {
    "ExecuteTime": {
     "end_time": "2025-10-31T23:41:07.192183Z",
     "start_time": "2025-10-31T23:41:07.181296Z"
    }
   },
   "cell_type": "code",
   "source": [
    "# Step 2.3: Encode categorical variables\n",
    "label_encoders = {}\n",
    "for col in categorical_features:\n",
    "    le = LabelEncoder()\n",
    "    X[col] = le.fit_transform(X[col].astype(str))\n",
    "    label_encoders[col] = le\n"
   ],
   "id": "69f0c439dbfc26f2",
   "outputs": [],
   "execution_count": 410
  },
  {
   "metadata": {
    "ExecuteTime": {
     "end_time": "2025-10-31T23:41:07.201606Z",
     "start_time": "2025-10-31T23:41:07.194909Z"
    }
   },
   "cell_type": "code",
   "source": [
    "# Step 2.4: Feature Engineering\n",
    "initial_features = X.shape[1]\n",
    "\n",
    "# Combine bathroom features\n",
    "X['TotalBath'] = X['FullBath'] + 0.5 * X['HalfBath'] + X['BsmtFullBath'] + 0.5 * X['BsmtHalfBath']\n",
    "X = X.drop(['FullBath', 'HalfBath', 'BsmtFullBath', 'BsmtHalfBath'], axis=1)\n",
    "\n",
    "# Combine porch features into one\n",
    "X['TotalPorchSF'] = X['OpenPorchSF'] + X['EnclosedPorch'] + X['3SsnPorch'] + X['ScreenPorch']\n",
    "X = X.drop(['OpenPorchSF', 'EnclosedPorch', '3SsnPorch', 'ScreenPorch'], axis=1)\n",
    "\n",
    "# Drop low-variance features that add noise\n",
    "low_var_features = ['Street', 'Utilities', 'Condition2', 'RoofMatl', 'Heating']\n",
    "features_to_drop = [f for f in low_var_features if f in X.columns]\n",
    "if features_to_drop:\n",
    "    X = X.drop(features_to_drop, axis=1)\n",
    "\n",
    "# Drop Year/Month sold (temporal features may cause overfitting)\n",
    "temporal_features = ['MoSold', 'YrSold']\n",
    "temporal_to_drop = [f for f in temporal_features if f in X.columns]\n",
    "if temporal_to_drop:\n",
    "    X = X.drop(temporal_to_drop, axis=1)\n",
    "\n",
    "# Combine quality features\n",
    "X['OverallScore'] = X['OverallQual'] * X['OverallCond']\n",
    "\n",
    "final_features = X.shape[1]\n"
   ],
   "id": "471daf0c65339f35",
   "outputs": [],
   "execution_count": 411
  },
  {
   "metadata": {
    "ExecuteTime": {
     "end_time": "2025-10-31T23:41:07.224467Z",
     "start_time": "2025-10-31T23:41:07.204805Z"
    }
   },
   "cell_type": "code",
   "source": [
    "# Step 3: Feature Selection using Decision Tree\n",
    "\n",
    "from sklearn.feature_selection import SelectFromModel\n",
    "\n",
    "# Create a simple Decision Tree for feature selection\n",
    "feature_selector = DecisionTreeRegressor(max_depth=10, random_state=42)\n",
    "feature_selector.fit(X, y)\n",
    "\n",
    "feature_importance_before = pd.DataFrame({\n",
    "    'feature': X.columns,\n",
    "    'importance': feature_selector.feature_importances_\n",
    "}).sort_values('importance', ascending=False)\n",
    "\n",
    "\n",
    "# Use SelectFromModel with stricter threshold to select fewer features\n",
    "selector = SelectFromModel(feature_selector, threshold='0.5*median', prefit=True, max_features=30)\n",
    "X_selected = selector.transform(X)\n",
    "\n",
    "selected_features_mask = selector.get_support()\n",
    "selected_features = X.columns[selected_features_mask].tolist()\n",
    "\n",
    "print(f\"\\nSelected features ({len(selected_features)}):\")\n",
    "for i, feat in enumerate(selected_features, 1):\n",
    "    importance = feature_importance_before[feature_importance_before['feature'] == feat]['importance'].values[0]\n",
    "    print(f\"  {i:2d}. {feat:25s} (importance: {importance:.4f})\")\n",
    "\n",
    "# Update X to use only selected features\n",
    "X = pd.DataFrame(X_selected, columns=selected_features, index=X.index)\n",
    "\n",
    "print(\"\\nRemoving outliers based on sale price...\")\n",
    "Q1 = y.quantile(0.25)\n",
    "Q3 = y.quantile(0.75)\n",
    "IQR = Q3 - Q1\n",
    "lower_bound = Q1 - 1.5 * IQR\n",
    "upper_bound = Q3 + 1.5 * IQR\n",
    "\n",
    "outlier_mask = (y >= lower_bound) & (y <= upper_bound)\n",
    "X = X[outlier_mask]\n",
    "y = y[outlier_mask]\n",
    "print(f\"Removed {(~outlier_mask).sum()} outliers\")\n",
    "print(f\"Remaining samples: {len(X)}\")\n"
   ],
   "id": "f655b27e6577424a",
   "outputs": [
    {
     "name": "stdout",
     "output_type": "stream",
     "text": [
      "\n",
      "Selected features (30):\n",
      "   1. LotFrontage               (importance: 0.0082)\n",
      "   2. LotArea                   (importance: 0.0065)\n",
      "   3. Neighborhood              (importance: 0.0128)\n",
      "   4. OverallQual               (importance: 0.6443)\n",
      "   5. OverallCond               (importance: 0.0013)\n",
      "   6. YearBuilt                 (importance: 0.0033)\n",
      "   7. YearRemodAdd              (importance: 0.0028)\n",
      "   8. Exterior1st               (importance: 0.0029)\n",
      "   9. MasVnrType                (importance: 0.0054)\n",
      "  10. ExterQual                 (importance: 0.0028)\n",
      "  11. BsmtExposure              (importance: 0.0035)\n",
      "  12. BsmtFinType1              (importance: 0.0038)\n",
      "  13. BsmtFinSF1                (importance: 0.0160)\n",
      "  14. BsmtUnfSF                 (importance: 0.0038)\n",
      "  15. TotalBsmtSF               (importance: 0.0313)\n",
      "  16. 1stFlrSF                  (importance: 0.0241)\n",
      "  17. 2ndFlrSF                  (importance: 0.0379)\n",
      "  18. GrLivArea                 (importance: 0.1011)\n",
      "  19. KitchenAbvGr              (importance: 0.0059)\n",
      "  20. TotRmsAbvGrd              (importance: 0.0023)\n",
      "  21. GarageType                (importance: 0.0046)\n",
      "  22. GarageYrBlt               (importance: 0.0028)\n",
      "  23. GarageFinish              (importance: 0.0044)\n",
      "  24. GarageCars                (importance: 0.0128)\n",
      "  25. GarageArea                (importance: 0.0111)\n",
      "  26. WoodDeckSF                (importance: 0.0030)\n",
      "  27. SaleCondition             (importance: 0.0044)\n",
      "  28. TotalBath                 (importance: 0.0078)\n",
      "  29. TotalPorchSF              (importance: 0.0031)\n",
      "  30. OverallScore              (importance: 0.0152)\n",
      "\n",
      "Removing outliers based on sale price...\n",
      "Removed 61 outliers\n",
      "Remaining samples: 1399\n"
     ]
    }
   ],
   "execution_count": 412
  },
  {
   "metadata": {
    "ExecuteTime": {
     "end_time": "2025-10-31T23:41:07.232865Z",
     "start_time": "2025-10-31T23:41:07.229898Z"
    }
   },
   "cell_type": "code",
   "source": [
    "# Step 4: Train-Test Split (80-20, random_state=42)\n",
    "\n",
    "print(\"\\nSplitting data into train and test sets...\")\n",
    "X_train, X_test, y_train, y_test = train_test_split(\n",
    "    X, y, test_size=0.2, random_state=42\n",
    ")\n",
    "print(f\"Training set size: {X_train.shape}\")\n",
    "print(f\"Test set size: {X_test.shape}\")\n"
   ],
   "id": "3562d8149f666429",
   "outputs": [
    {
     "name": "stdout",
     "output_type": "stream",
     "text": [
      "\n",
      "Splitting data into train and test sets...\n",
      "Training set size: (1119, 30)\n",
      "Test set size: (280, 30)\n"
     ]
    }
   ],
   "execution_count": 413
  },
  {
   "metadata": {
    "ExecuteTime": {
     "end_time": "2025-10-31T23:41:11.213045Z",
     "start_time": "2025-10-31T23:41:07.236820Z"
    }
   },
   "cell_type": "code",
   "source": [
    "# Step 5: Hyperparameter tuning with 4-fold cross-validation\n",
    "print(\"\\nHyperparameter tuning using GridSearchCV with 4-fold CV...\")\n",
    "\n",
    "param_grid = {\n",
    "    'max_depth': [2, 3, 4, 5],\n",
    "    'min_samples_split': [50, 100, 200, 300],\n",
    "    'min_samples_leaf': [30, 50, 70, 100],\n",
    "    'max_features': ['sqrt', 'log2', 0.3],\n",
    "    'ccp_alpha': [0.0, 5.0, 10.0, 20.0, 50.0],\n",
    "    'criterion': ['squared_error', 'friedman_mse']\n",
    "}\n",
    "\n",
    "\n",
    "print(\"\\nHyperparameters to tune:\")\n",
    "for param, values in param_grid.items():\n",
    "    print(f\"  {param}: {values}\")\n",
    "\n",
    "# Initialize Decision Tree Regressor\n",
    "dt_regressor = DecisionTreeRegressor(random_state=42)\n",
    "\n",
    "# Grid Search with 4-fold CV\n",
    "grid_search = GridSearchCV(\n",
    "    estimator=dt_regressor,\n",
    "    param_grid=param_grid,\n",
    "    cv=5,\n",
    "    scoring='neg_mean_squared_error',\n",
    "    n_jobs=-1,\n",
    "    verbose=1\n",
    ")\n",
    "\n",
    "print(\"\\nTraining with cross-validation (this may take a while)...\")\n",
    "grid_search.fit(X_train, y_train)\n",
    "\n",
    "print(\"\\n\" + \"=\"*50)\n",
    "print(\"Best hyperparameters found:\")\n",
    "print(\"=\"*50)\n",
    "for param, value in grid_search.best_params_.items():\n",
    "    print(f\"  {param}: {value}\")\n",
    "print(f\"\\nBest CV RMSE: ${np.sqrt(-grid_search.best_score_):,.2f}\")\n"
   ],
   "id": "ba9b8046414f647b",
   "outputs": [
    {
     "name": "stdout",
     "output_type": "stream",
     "text": [
      "\n",
      "Hyperparameter tuning using GridSearchCV with 4-fold CV...\n",
      "\n",
      "Hyperparameters to tune:\n",
      "  max_depth: [2, 3, 4, 5]\n",
      "  min_samples_split: [50, 100, 200, 300]\n",
      "  min_samples_leaf: [30, 50, 70, 100]\n",
      "  max_features: ['sqrt', 'log2', 0.3]\n",
      "  ccp_alpha: [0.0, 5.0, 10.0, 20.0, 50.0]\n",
      "  criterion: ['squared_error', 'friedman_mse']\n",
      "\n",
      "Training with cross-validation (this may take a while)...\n",
      "Fitting 5 folds for each of 1920 candidates, totalling 9600 fits\n",
      "\n",
      "==================================================\n",
      "Best hyperparameters found:\n",
      "==================================================\n",
      "  ccp_alpha: 0.0\n",
      "  criterion: squared_error\n",
      "  max_depth: 5\n",
      "  max_features: 0.3\n",
      "  min_samples_leaf: 30\n",
      "  min_samples_split: 50\n",
      "\n",
      "Best CV RMSE: $33,796.33\n"
     ]
    }
   ],
   "execution_count": 414
  },
  {
   "metadata": {
    "ExecuteTime": {
     "end_time": "2025-10-31T23:41:11.256630Z",
     "start_time": "2025-10-31T23:41:11.252889Z"
    }
   },
   "cell_type": "code",
   "source": [
    "# Step 6: Train final model with best parameters\n",
    "print(\"\\nTraining final model with best parameters...\")\n",
    "best_model = grid_search.best_estimator_\n",
    "\n",
    "y_train_pred = best_model.predict(X_train)\n",
    "train_rmse = np.sqrt(mean_squared_error(y_train, y_train_pred))\n",
    "train_r2 = r2_score(y_train, y_train_pred)\n",
    "\n",
    "print(f\"\\nTraining Performance:\")\n",
    "print(f\"  RMSE: ${train_rmse:,.2f}\")\n",
    "print(f\"  R² Score: {train_r2:.4f}\")\n"
   ],
   "id": "75888925ac9e1be9",
   "outputs": [
    {
     "name": "stdout",
     "output_type": "stream",
     "text": [
      "\n",
      "Training final model with best parameters...\n",
      "\n",
      "Training Performance:\n",
      "  RMSE: $29,412.79\n",
      "  R² Score: 0.7584\n"
     ]
    }
   ],
   "execution_count": 415
  },
  {
   "metadata": {
    "ExecuteTime": {
     "end_time": "2025-10-31T23:41:11.264688Z",
     "start_time": "2025-10-31T23:41:11.261048Z"
    }
   },
   "cell_type": "code",
   "source": [
    "# Step 7: Test on test set and report\n",
    "print(\"\\nEvaluating on test set...\")\n",
    "y_test_pred = best_model.predict(X_test)\n",
    "test_rmse = np.sqrt(mean_squared_error(y_test, y_test_pred))\n",
    "test_r2 = r2_score(y_test, y_test_pred)\n",
    "\n",
    "print(\"\\n\" + \"=\"*50)\n",
    "print(\"TEST SET PERFORMANCE\")\n",
    "print(\"=\"*50)\n",
    "print(f\"  RMSE: ${test_rmse:,.2f}\")\n",
    "print(f\"  R² Score: {test_r2:.4f}\")\n",
    "print(f\"  Mean Absolute Error: ${np.mean(np.abs(y_test - y_test_pred)):,.2f}\")\n",
    "print(f\"  Median Absolute Error: ${np.median(np.abs(y_test - y_test_pred)):,.2f}\")\n"
   ],
   "id": "9c5446327a7d05d9",
   "outputs": [
    {
     "name": "stdout",
     "output_type": "stream",
     "text": [
      "\n",
      "Evaluating on test set...\n",
      "\n",
      "==================================================\n",
      "TEST SET PERFORMANCE\n",
      "==================================================\n",
      "  RMSE: $33,476.00\n",
      "  R² Score: 0.6477\n",
      "  Mean Absolute Error: $24,615.53\n",
      "  Median Absolute Error: $18,495.21\n"
     ]
    }
   ],
   "execution_count": 416
  },
  {
   "metadata": {
    "ExecuteTime": {
     "end_time": "2025-10-31T23:41:11.408084Z",
     "start_time": "2025-10-31T23:41:11.268029Z"
    }
   },
   "cell_type": "code",
   "source": [
    "# Step 8: Learning Curve with RMSE\n",
    "print(\"\\nGenerating learning curve...\")\n",
    "from sklearn.model_selection import learning_curve\n",
    "\n",
    "# Calculate learning curve\n",
    "train_sizes, train_scores, val_scores = learning_curve(\n",
    "    best_model,\n",
    "    X_train,\n",
    "    y_train,\n",
    "    cv=4,\n",
    "    scoring='neg_mean_squared_error',\n",
    "    train_sizes=np.linspace(0.1, 1.0, 10),\n",
    "    n_jobs=-1,\n",
    "    random_state=42\n",
    ")\n",
    "\n",
    "# Convert to RMSE\n",
    "train_rmse_scores = np.sqrt(-train_scores)\n",
    "val_rmse_scores = np.sqrt(-val_scores)\n",
    "\n",
    "# Calculate mean and std\n",
    "train_rmse_mean = np.mean(train_rmse_scores, axis=1)\n",
    "train_rmse_std = np.std(train_rmse_scores, axis=1)\n",
    "val_rmse_mean = np.mean(val_rmse_scores, axis=1)\n",
    "val_rmse_std = np.std(val_rmse_scores, axis=1)\n",
    "\n",
    "# Plot learning curve\n",
    "plt.figure(figsize=(10, 6))\n",
    "plt.plot(train_sizes, train_rmse_mean, 'o-', color='r', label='Training RMSE')\n",
    "plt.fill_between(train_sizes,\n",
    "                 train_rmse_mean - train_rmse_std,\n",
    "                 train_rmse_mean + train_rmse_std,\n",
    "                 alpha=0.1, color='r')\n",
    "\n",
    "plt.plot(train_sizes, val_rmse_mean, 'o-', color='g', label='Validation RMSE')\n",
    "plt.fill_between(train_sizes,\n",
    "                 val_rmse_mean - val_rmse_std,\n",
    "                 val_rmse_mean + val_rmse_std,\n",
    "                 alpha=0.1, color='g')\n",
    "\n",
    "plt.xlabel('Training Set Size', fontsize=12)\n",
    "plt.ylabel('RMSE ($)', fontsize=12)\n",
    "plt.title('Learning Curve - Decision Tree Regression', fontsize=14, fontweight='bold')\n",
    "plt.legend(loc='best', fontsize=10)\n",
    "plt.grid(True, alpha=0.3)\n",
    "plt.tight_layout()\n",
    "plt.show()\n",
    "\n",
    "print(\"\\nLearning curve generated successfully!\")\n"
   ],
   "id": "58b74e982100af15",
   "outputs": [
    {
     "name": "stdout",
     "output_type": "stream",
     "text": [
      "\n",
      "Generating learning curve...\n"
     ]
    },
    {
     "data": {
      "text/plain": [
       "<Figure size 1000x600 with 1 Axes>"
      ],
      "image/png": "[encoded data removed]"
     },
     "metadata": {},
     "output_type": "display_data",
     "jetTransient": {
      "display_id": null
     }
    },
    {
     "name": "stdout",
     "output_type": "stream",
     "text": [
      "\n",
      "Learning curve generated successfully!\n"
     ]
    }
   ],
   "execution_count": 417
  },
  {
   "metadata": {
    "ExecuteTime": {
     "end_time": "2025-10-31T23:41:11.415816Z",
     "start_time": "2025-10-31T23:41:11.412832Z"
    }
   },
   "cell_type": "code",
   "source": [
    "# Summary\n",
    "print(\"\\n\" + \"=\"*60)\n",
    "print(\"SUMMARY - DECISION TREE REGRESSION MODEL\")\n",
    "print(\"=\"*60)\n",
    "print(f\"Dataset: Housing Prices with {X.shape[1]} features\")\n",
    "print(f\"Model: Decision Tree Regressor\")\n",
    "print(f\"Train/Test Split: 80/20 (random_state=42)\")\n",
    "print(f\"Cross-validation: 4-fold\")\n",
    "print(f\"\\nBest Hyperparameters:\")\n",
    "for param, value in grid_search.best_params_.items():\n",
    "    print(f\"  - {param}: {value}\")\n",
    "print(f\"\\nPerformance Metrics:\")\n",
    "print(f\"  Training RMSE: ${train_rmse:,.2f}\")\n",
    "print(f\"  Training R²: {train_r2:.4f}\")\n",
    "print(f\"  Test RMSE: ${test_rmse:,.2f}\")\n",
    "print(f\"  Test R²: {test_r2:.4f}\")\n",
    "print(\"=\"*60)\n",
    "\n"
   ],
   "id": "bf7f6db5eb50c9f5",
   "outputs": [
    {
     "name": "stdout",
     "output_type": "stream",
     "text": [
      "\n",
      "============================================================\n",
      "SUMMARY - DECISION TREE REGRESSION MODEL\n",
      "============================================================\n",
      "Dataset: Housing Prices with 30 features\n",
      "Model: Decision Tree Regressor\n",
      "Train/Test Split: 80/20 (random_state=42)\n",
      "Cross-validation: 4-fold\n",
      "\n",
      "Best Hyperparameters:\n",
      "  - ccp_alpha: 0.0\n",
      "  - criterion: squared_error\n",
      "  - max_depth: 5\n",
      "  - max_features: 0.3\n",
      "  - min_samples_leaf: 30\n",
      "  - min_samples_split: 50\n",
      "\n",
      "Performance Metrics:\n",
      "  Training RMSE: $29,412.79\n",
      "  Training R²: 0.7584\n",
      "  Test RMSE: $33,476.00\n",
      "  Test R²: 0.6477\n",
      "============================================================\n"
     ]
    }
   ],
   "execution_count": 418
  }
 ],
 "metadata": {
  "kernelspec": {
   "name": "python3",
   "language": "python",
   "display_name": "Python 3 (ipykernel)"
  }
 },
 "nbformat": 4,
 "nbformat_minor": 5
}
