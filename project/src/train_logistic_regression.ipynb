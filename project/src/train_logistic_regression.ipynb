{
 "cells": [
  {
   "cell_type": "code",
   "id": "initial_id",
   "metadata": {
    "collapsed": true,
    "ExecuteTime": {
     "end_time": "2025-10-12T17:30:13.442730Z",
     "start_time": "2025-10-12T17:30:13.439521Z"
    }
   },
   "source": [
    "import numpy as np\n",
    "import pandas as pd\n",
    "import seaborn as sns\n",
    "import matplotlib.pyplot as plt\n",
    "from sklearn.linear_model import LogisticRegression\n",
    "from sklearn.preprocessing import StandardScaler\n",
    "from sklearn.metrics import accuracy_score, classification_report, confusion_matrix\n",
    "from sklearn.model_selection import train_test_split\n",
    "import warnings"
   ],
   "outputs": [],
   "execution_count": 106
  },
  {
   "metadata": {
    "ExecuteTime": {
     "end_time": "2025-10-12T17:29:44.309833Z",
     "start_time": "2025-10-12T17:29:44.299392Z"
    }
   },
   "cell_type": "code",
   "source": [
    "# Load training data\n",
    "train_df = pd.read_csv('../data/train.csv')\n",
    "print(f\"Training data shape: {train_df.shape}\")"
   ],
   "id": "bbf09ad4bbf34535",
   "outputs": [
    {
     "name": "stdout",
     "output_type": "stream",
     "text": [
      "Training data shape: (1460, 81)\n"
     ]
    }
   ],
   "execution_count": 78
  },
  {
   "metadata": {
    "ExecuteTime": {
     "end_time": "2025-10-12T17:29:44.321732Z",
     "start_time": "2025-10-12T17:29:44.316714Z"
    }
   },
   "cell_type": "code",
   "source": [
    "# Check for missing values in features\n",
    "missing_percent = (train_df.isnull().sum() / len(train_df)) * 100\n",
    "missing_data = pd.DataFrame({'Missing_Percent': missing_percent})\n",
    "missing_data = missing_data[missing_data['Missing_Percent'] > 0].sort_values('Missing_Percent', ascending=False)\n",
    "print(f\"\\nFeatures with missing values: {len(missing_data)}\")\n",
    "print(missing_data.head(10))"
   ],
   "id": "b5f2bd8280ea0438",
   "outputs": [
    {
     "name": "stdout",
     "output_type": "stream",
     "text": [
      "\n",
      "Features with missing values: 19\n",
      "              Missing_Percent\n",
      "PoolQC              99.520548\n",
      "MiscFeature         96.301370\n",
      "Alley               93.767123\n",
      "Fence               80.753425\n",
      "MasVnrType          59.726027\n",
      "FireplaceQu         47.260274\n",
      "LotFrontage         17.739726\n",
      "GarageType           5.547945\n",
      "GarageYrBlt          5.547945\n",
      "GarageFinish         5.547945\n"
     ]
    }
   ],
   "execution_count": 79
  },
  {
   "metadata": {
    "ExecuteTime": {
     "end_time": "2025-10-12T17:29:44.336401Z",
     "start_time": "2025-10-12T17:29:44.333008Z"
    }
   },
   "cell_type": "code",
   "source": [
    "# Verify SalePrice statistics\n",
    "print(\"\\nSalePrice statistics:\")\n",
    "print(f\"  Min: ${train_df['SalePrice'].min():,.0f}\")\n",
    "print(f\"  33rd percentile: ${train_df['SalePrice'].quantile(0.33):,.0f}\")\n",
    "print(f\"  Median (50th): ${train_df['SalePrice'].quantile(0.50):,.0f}\")\n",
    "print(f\"  67th percentile: ${train_df['SalePrice'].quantile(0.67):,.0f}\")\n",
    "print(f\"  Max: ${train_df['SalePrice'].max():,.0f}\")"
   ],
   "id": "4dd0d9b390821043",
   "outputs": [
    {
     "name": "stdout",
     "output_type": "stream",
     "text": [
      "\n",
      "SalePrice statistics:\n",
      "  Min: $34,900\n",
      "  33rd percentile: $139,000\n",
      "  Median (50th): $163,000\n",
      "  67th percentile: $191,000\n",
      "  Max: $755,000\n"
     ]
    }
   ],
   "execution_count": 80
  },
  {
   "metadata": {
    "ExecuteTime": {
     "end_time": "2025-10-12T17:29:44.350980Z",
     "start_time": "2025-10-12T17:29:44.348007Z"
    }
   },
   "cell_type": "code",
   "source": [
    "# Define category boundaries based on percentiles\n",
    "low_threshold = train_df['SalePrice'].quantile(0.33)\n",
    "high_threshold = train_df['SalePrice'].quantile(0.67)\n",
    "\n",
    "print(f\"\\nCategory boundaries:\")\n",
    "print(f\"  Low: < ${low_threshold:,.0f}\")\n",
    "print(f\"  Medium: ${low_threshold:,.0f} - ${high_threshold:,.0f}\")\n",
    "print(f\"  High: > ${high_threshold:,.0f}\")"
   ],
   "id": "b282b846b1569247",
   "outputs": [
    {
     "name": "stdout",
     "output_type": "stream",
     "text": [
      "\n",
      "Category boundaries:\n",
      "  Low: < $139,000\n",
      "  Medium: $139,000 - $191,000\n",
      "  High: > $191,000\n"
     ]
    }
   ],
   "execution_count": 81
  },
  {
   "metadata": {
    "ExecuteTime": {
     "end_time": "2025-10-12T17:29:44.361247Z",
     "start_time": "2025-10-12T17:29:44.359717Z"
    }
   },
   "cell_type": "code",
   "source": [
    "# Create categories: 0 = Low, 1 = Medium, 2 = High\n",
    "def categorize_price(price):\n",
    "    if price < low_threshold:\n",
    "        return 0  # Low\n",
    "    elif price < high_threshold:\n",
    "        return 1  # Medium\n",
    "    else:\n",
    "        return 2  # High"
   ],
   "id": "ebcaf342e4c0e0e6",
   "outputs": [],
   "execution_count": 82
  },
  {
   "metadata": {
    "ExecuteTime": {
     "end_time": "2025-10-12T17:29:44.373337Z",
     "start_time": "2025-10-12T17:29:44.371006Z"
    }
   },
   "cell_type": "code",
   "source": "train_df['PriceCategory'] = train_df['SalePrice'].apply(categorize_price)",
   "id": "4c722fcec4a082f6",
   "outputs": [],
   "execution_count": 83
  },
  {
   "metadata": {
    "ExecuteTime": {
     "end_time": "2025-10-12T17:29:44.380080Z",
     "start_time": "2025-10-12T17:29:44.377215Z"
    }
   },
   "cell_type": "code",
   "source": [
    "# Check class balance\n",
    "print(f\"\\nClass distribution:\")\n",
    "print(train_df['PriceCategory'].value_counts().sort_index())\n",
    "print(f\"\\nClass proportions:\")\n",
    "print(train_df['PriceCategory'].value_counts(normalize=True).sort_index())"
   ],
   "id": "5d0e4426b300da93",
   "outputs": [
    {
     "name": "stdout",
     "output_type": "stream",
     "text": [
      "\n",
      "Class distribution:\n",
      "PriceCategory\n",
      "0    472\n",
      "1    505\n",
      "2    483\n",
      "Name: count, dtype: int64\n",
      "\n",
      "Class proportions:\n",
      "PriceCategory\n",
      "0    0.323288\n",
      "1    0.345890\n",
      "2    0.330822\n",
      "Name: proportion, dtype: float64\n"
     ]
    }
   ],
   "execution_count": 84
  },
  {
   "metadata": {
    "ExecuteTime": {
     "end_time": "2025-10-12T17:29:44.486332Z",
     "start_time": "2025-10-12T17:29:44.388071Z"
    }
   },
   "cell_type": "code",
   "source": [
    "# Visualize the price distribution and categories\n",
    "plt.figure(figsize=(12, 5))\n",
    "\n",
    "plt.subplot(1, 2, 1)\n",
    "plt.hist(train_df['SalePrice'], bins=50, edgecolor='black', alpha=0.7)\n",
    "plt.axvline(low_threshold, color='r', linestyle='--', label=f'Low threshold: ${low_threshold:,.0f}')\n",
    "plt.axvline(high_threshold, color='g', linestyle='--', label=f'High threshold: ${high_threshold:,.0f}')\n",
    "plt.xlabel('Sale Price')\n",
    "plt.ylabel('Count')\n",
    "plt.title('Sale Price Distribution with Category Boundaries')\n",
    "plt.legend()\n",
    "\n",
    "plt.subplot(1, 2, 2)\n",
    "category_counts = train_df['PriceCategory'].value_counts().sort_index()\n",
    "plt.bar(['Low (0)', 'Medium (1)', 'High (2)'], category_counts.values, color=['blue', 'orange', 'green'])\n",
    "plt.xlabel('Price Category')\n",
    "plt.ylabel('Count')\n",
    "plt.title('Distribution of Price Categories')\n",
    "\n",
    "plt.tight_layout()\n",
    "plt.show()"
   ],
   "id": "2730ffe556e22c5a",
   "outputs": [
    {
     "data": {
      "text/plain": [
       "<Figure size 1200x500 with 2 Axes>"
      ],
      "image/png": "[encoded data removed]"
     },
     "metadata": {},
     "output_type": "display_data",
     "jetTransient": {
      "display_id": null
     }
    }
   ],
   "execution_count": 85
  },
  {
   "metadata": {
    "ExecuteTime": {
     "end_time": "2025-10-12T17:29:44.493515Z",
     "start_time": "2025-10-12T17:29:44.490264Z"
    }
   },
   "cell_type": "code",
   "source": [
    "# Separate features and target\n",
    "# Remove SalePrice and PriceCategory from features, and Id if present\n",
    "features_to_drop = ['SalePrice', 'PriceCategory']\n",
    "if 'Id' in train_df.columns:\n",
    "    features_to_drop.append('Id')\n",
    "\n",
    "X = train_df.drop(columns=features_to_drop)\n",
    "y = train_df['PriceCategory']\n",
    "\n",
    "print(f\"\\nFeatures shape: {X.shape}\")\n",
    "print(f\"Target shape: {y.shape}\")"
   ],
   "id": "6f6f3c6f0752ba2b",
   "outputs": [
    {
     "name": "stdout",
     "output_type": "stream",
     "text": [
      "\n",
      "Features shape: (1460, 79)\n",
      "Target shape: (1460,)\n"
     ]
    }
   ],
   "execution_count": 86
  },
  {
   "metadata": {
    "ExecuteTime": {
     "end_time": "2025-10-12T17:29:44.503889Z",
     "start_time": "2025-10-12T17:29:44.501049Z"
    }
   },
   "cell_type": "code",
   "source": [
    "# Identify numeric and categorical columns\n",
    "numeric_features = X.select_dtypes(include=[np.number]).columns.tolist()\n",
    "categorical_features = X.select_dtypes(include=['object']).columns.tolist()\n",
    "\n",
    "print(f\"\\nNumeric features: {len(numeric_features)}\")\n",
    "print(f\"Categorical features: {len(categorical_features)}\")"
   ],
   "id": "1fc472c6b9221931",
   "outputs": [
    {
     "name": "stdout",
     "output_type": "stream",
     "text": [
      "\n",
      "Numeric features: 36\n",
      "Categorical features: 43\n"
     ]
    }
   ],
   "execution_count": 87
  },
  {
   "metadata": {
    "ExecuteTime": {
     "end_time": "2025-10-12T17:31:17.145151Z",
     "start_time": "2025-10-12T17:31:17.133124Z"
    }
   },
   "cell_type": "code",
   "source": [
    "# Handle missing values\n",
    "# For numeric: fill with median\n",
    "for col in numeric_features:\n",
    "    if X[col].isnull().any():\n",
    "        X[col].fillna(X[col].median(), inplace=True)\n",
    "\n",
    "# For categorical: fill with mode (most frequent value)\n",
    "for col in categorical_features:\n",
    "    if X[col].isnull().any():\n",
    "        X[col].fillna(X[col].mode()[0], inplace=True)\n",
    "\n",
    "print(f\"\\nMissing values after imputation: {X.isnull().sum().sum()}\")"
   ],
   "id": "a7b4b1edc66a0216",
   "outputs": [
    {
     "name": "stdout",
     "output_type": "stream",
     "text": [
      "\n",
      "Missing values after imputation: 0\n"
     ]
    }
   ],
   "execution_count": 107
  },
  {
   "metadata": {
    "ExecuteTime": {
     "end_time": "2025-10-12T17:31:21.602023Z",
     "start_time": "2025-10-12T17:31:21.585160Z"
    }
   },
   "cell_type": "code",
   "source": [
    "# Encode categorical variables using one-hot encoding\n",
    "X_encoded = pd.get_dummies(X, columns=categorical_features, drop_first=True)\n",
    "print(f\"\\nShape after encoding: {X_encoded.shape}\")\n",
    "print(f\"Total features: {X_encoded.shape[1]}\")"
   ],
   "id": "17365053afc501cf",
   "outputs": [
    {
     "name": "stdout",
     "output_type": "stream",
     "text": [
      "\n",
      "Shape after encoding: (1460, 244)\n",
      "Total features: 244\n"
     ]
    }
   ],
   "execution_count": 108
  },
  {
   "metadata": {
    "ExecuteTime": {
     "end_time": "2025-10-12T17:31:28.788810Z",
     "start_time": "2025-10-12T17:31:28.778240Z"
    }
   },
   "cell_type": "code",
   "source": [
    "# Split into train and validation sets\n",
    "X_train, X_val, y_train, y_val = train_test_split(\n",
    "    X_encoded, y,\n",
    "    test_size=0.25,\n",
    "    random_state=42,\n",
    "    stratify=y\n",
    ")\n",
    "\n",
    "print(f\"\\nTraining set size: {X_train.shape[0]}\")\n",
    "print(f\"Validation set size: {X_val.shape[0]}\")\n",
    "print(f\"\\nTraining set class distribution:\")\n",
    "print(y_train.value_counts().sort_index())"
   ],
   "id": "c8d70c312ff0c761",
   "outputs": [
    {
     "name": "stdout",
     "output_type": "stream",
     "text": [
      "\n",
      "Training set size: 1095\n",
      "Validation set size: 365\n",
      "\n",
      "Training set class distribution:\n",
      "PriceCategory\n",
      "0    354\n",
      "1    379\n",
      "2    362\n",
      "Name: count, dtype: int64\n"
     ]
    }
   ],
   "execution_count": 109
  },
  {
   "metadata": {
    "ExecuteTime": {
     "end_time": "2025-10-12T17:31:33.961422Z",
     "start_time": "2025-10-12T17:31:33.939157Z"
    }
   },
   "cell_type": "code",
   "source": [
    "# Standardize features (important for logistic regression)\n",
    "scaler = StandardScaler()\n",
    "X_train_scaled = scaler.fit_transform(X_train)\n",
    "X_val_scaled = scaler.transform(X_val)\n",
    "\n",
    "print(f\"\\nFeature scaling complete.\")\n",
    "print(f\"Training features mean: {X_train_scaled.mean():.6f}\")\n",
    "print(f\"Training features std: {X_train_scaled.std():.6f}\")"
   ],
   "id": "272fd74b250a7de3",
   "outputs": [
    {
     "name": "stdout",
     "output_type": "stream",
     "text": [
      "\n",
      "Feature scaling complete.\n",
      "Training features mean: -0.000000\n",
      "Training features std: 0.995893\n"
     ]
    }
   ],
   "execution_count": 110
  },
  {
   "metadata": {
    "ExecuteTime": {
     "end_time": "2025-10-12T17:31:43.117886Z",
     "start_time": "2025-10-12T17:31:43.096167Z"
    }
   },
   "cell_type": "code",
   "source": [
    "# ============================================================================\n",
    "# 5. Train Logistic Regression Model\n",
    "# ============================================================================\n",
    "\n",
    "# Initialize and train the model\n",
    "# For multi-class classification, we use 'multinomial' solver\n",
    "lgr = LogisticRegression(\n",
    "    solver='lbfgs',  # Better for multi-class\n",
    "    multi_class='multinomial',\n",
    "    max_iter=1000,\n",
    "    random_state=42\n",
    ")\n",
    "\n",
    "print(\"\\nTraining logistic regression model...\")\n",
    "lgr.fit(X_train_scaled, y_train)\n",
    "print(\"Training complete!\")"
   ],
   "id": "5ae383a83989c0b6",
   "outputs": [
    {
     "name": "stdout",
     "output_type": "stream",
     "text": [
      "\n",
      "Training logistic regression model...\n",
      "Training complete!\n"
     ]
    },
    {
     "name": "stderr",
     "output_type": "stream",
     "text": [
      "/Users/hayden/Library/Python/3.9/lib/python/site-packages/sklearn/linear_model/_logistic.py:1247: FutureWarning: 'multi_class' was deprecated in version 1.5 and will be removed in 1.7. From then on, it will always use 'multinomial'. Leave it to its default value to avoid this warning.\n",
      "  warnings.warn(\n",
      "/Users/hayden/Library/Python/3.9/lib/python/site-packages/sklearn/linear_model/_linear_loss.py:203: RuntimeWarning: divide by zero encountered in matmul\n",
      "  raw_prediction = X @ weights.T + intercept  # ndarray, likely C-contiguous\n",
      "/Users/hayden/Library/Python/3.9/lib/python/site-packages/sklearn/linear_model/_linear_loss.py:203: RuntimeWarning: overflow encountered in matmul\n",
      "  raw_prediction = X @ weights.T + intercept  # ndarray, likely C-contiguous\n",
      "/Users/hayden/Library/Python/3.9/lib/python/site-packages/sklearn/linear_model/_linear_loss.py:203: RuntimeWarning: invalid value encountered in matmul\n",
      "  raw_prediction = X @ weights.T + intercept  # ndarray, likely C-contiguous\n",
      "/Users/hayden/Library/Python/3.9/lib/python/site-packages/sklearn/linear_model/_linear_loss.py:336: RuntimeWarning: divide by zero encountered in matmul\n",
      "  grad[:, :n_features] = grad_pointwise.T @ X + l2_reg_strength * weights\n",
      "/Users/hayden/Library/Python/3.9/lib/python/site-packages/sklearn/linear_model/_linear_loss.py:336: RuntimeWarning: overflow encountered in matmul\n",
      "  grad[:, :n_features] = grad_pointwise.T @ X + l2_reg_strength * weights\n",
      "/Users/hayden/Library/Python/3.9/lib/python/site-packages/sklearn/linear_model/_linear_loss.py:336: RuntimeWarning: invalid value encountered in matmul\n",
      "  grad[:, :n_features] = grad_pointwise.T @ X + l2_reg_strength * weights\n"
     ]
    }
   ],
   "execution_count": 111
  },
  {
   "metadata": {
    "ExecuteTime": {
     "end_time": "2025-10-12T17:31:47.360393Z",
     "start_time": "2025-10-12T17:31:47.357423Z"
    }
   },
   "cell_type": "code",
   "source": [
    "# ============================================================================\n",
    "# 6. Evaluate on Validation Set\n",
    "# ============================================================================\n",
    "\n",
    "# Make predictions on validation set\n",
    "y_pred_val = lgr.predict(X_val_scaled)\n",
    "y_pred_proba_val = lgr.predict_proba(X_val_scaled)"
   ],
   "id": "dad234433fee388a",
   "outputs": [
    {
     "name": "stderr",
     "output_type": "stream",
     "text": [
      "/Users/hayden/Library/Python/3.9/lib/python/site-packages/sklearn/utils/extmath.py:203: RuntimeWarning: divide by zero encountered in matmul\n",
      "  ret = a @ b\n",
      "/Users/hayden/Library/Python/3.9/lib/python/site-packages/sklearn/utils/extmath.py:203: RuntimeWarning: overflow encountered in matmul\n",
      "  ret = a @ b\n",
      "/Users/hayden/Library/Python/3.9/lib/python/site-packages/sklearn/utils/extmath.py:203: RuntimeWarning: invalid value encountered in matmul\n",
      "  ret = a @ b\n",
      "/Users/hayden/Library/Python/3.9/lib/python/site-packages/sklearn/utils/extmath.py:203: RuntimeWarning: divide by zero encountered in matmul\n",
      "  ret = a @ b\n",
      "/Users/hayden/Library/Python/3.9/lib/python/site-packages/sklearn/utils/extmath.py:203: RuntimeWarning: overflow encountered in matmul\n",
      "  ret = a @ b\n",
      "/Users/hayden/Library/Python/3.9/lib/python/site-packages/sklearn/utils/extmath.py:203: RuntimeWarning: invalid value encountered in matmul\n",
      "  ret = a @ b\n"
     ]
    }
   ],
   "execution_count": 112
  },
  {
   "metadata": {
    "ExecuteTime": {
     "end_time": "2025-10-12T17:29:44.616014Z",
     "start_time": "2025-10-12T17:29:44.613602Z"
    }
   },
   "cell_type": "code",
   "source": [
    "# Calculate accuracy\n",
    "accuracy_val = accuracy_score(y_val, y_pred_val)\n",
    "print(f\"\\nValidation Accuracy: {accuracy_val:.4f} ({accuracy_val*100:.2f}%)\")"
   ],
   "id": "8a00c18cf5f3d9c8",
   "outputs": [
    {
     "name": "stdout",
     "output_type": "stream",
     "text": [
      "\n",
      "Validation Accuracy: 0.8082 (80.82%)\n"
     ]
    }
   ],
   "execution_count": 94
  },
  {
   "metadata": {
    "ExecuteTime": {
     "end_time": "2025-10-12T17:29:44.629725Z",
     "start_time": "2025-10-12T17:29:44.624855Z"
    }
   },
   "cell_type": "code",
   "source": [
    "# Detailed classification report\n",
    "print(\"\\nClassification Report (Validation Set):\")\n",
    "print(classification_report(y_val, y_pred_val, target_names=['Low', 'Medium', 'High']))"
   ],
   "id": "8c4630080d673fd",
   "outputs": [
    {
     "name": "stdout",
     "output_type": "stream",
     "text": [
      "\n",
      "Classification Report (Validation Set):\n",
      "              precision    recall  f1-score   support\n",
      "\n",
      "         Low       0.86      0.84      0.85       118\n",
      "      Medium       0.71      0.76      0.73       126\n",
      "        High       0.88      0.83      0.85       121\n",
      "\n",
      "    accuracy                           0.81       365\n",
      "   macro avg       0.81      0.81      0.81       365\n",
      "weighted avg       0.81      0.81      0.81       365\n",
      "\n"
     ]
    }
   ],
   "execution_count": 95
  },
  {
   "metadata": {
    "ExecuteTime": {
     "end_time": "2025-10-12T17:32:08.124987Z",
     "start_time": "2025-10-12T17:32:08.063171Z"
    }
   },
   "cell_type": "code",
   "source": [
    "# Confusion matrix\n",
    "cm = confusion_matrix(y_val, y_pred_val)\n",
    "\n",
    "plt.figure(figsize=(8, 6))\n",
    "sns.heatmap(cm, annot=True, fmt='d', cmap='Blues',\n",
    "            xticklabels=['Low', 'Medium', 'High'],\n",
    "            yticklabels=['Low', 'Medium', 'High'])\n",
    "plt.ylabel('True Label')\n",
    "plt.xlabel('Predicted Label')\n",
    "plt.title('Confusion Matrix - Validation Set')\n",
    "plt.show()\n",
    "\n",
    "print(f\"\\nConfusion Matrix:\")\n",
    "print(cm)"
   ],
   "id": "209c957a77bdeada",
   "outputs": [
    {
     "data": {
      "text/plain": [
       "<Figure size 800x600 with 2 Axes>"
      ],
      "image/png": "[encoded data removed]"
     },
     "metadata": {},
     "output_type": "display_data",
     "jetTransient": {
      "display_id": null
     }
    },
    {
     "name": "stdout",
     "output_type": "stream",
     "text": [
      "\n",
      "Confusion Matrix:\n",
      "[[ 99  19   0]\n",
      " [ 16  96  14]\n",
      " [  0  21 100]]\n"
     ]
    }
   ],
   "execution_count": 113
  },
  {
   "metadata": {
    "ExecuteTime": {
     "end_time": "2025-10-12T17:29:44.716410Z",
     "start_time": "2025-10-12T17:29:44.687432Z"
    }
   },
   "cell_type": "code",
   "source": [
    "# ============================================================================\n",
    "# 7. Train on Full Training Data and Predict on Test Set\n",
    "# ============================================================================\n",
    "\n",
    "# Retrain on full training data for final model\n",
    "print(\"\\nRetraining on full training set...\")\n",
    "X_full_scaled = scaler.fit_transform(X_encoded)\n",
    "lgr_final = LogisticRegression(\n",
    "    solver='lbfgs',\n",
    "    multi_class='multinomial',\n",
    "    max_iter=1000,\n",
    "    random_state=42\n",
    ")\n",
    "lgr_final.fit(X_full_scaled, y)\n",
    "print(\"Final model training complete!\")"
   ],
   "id": "f3e651474456ac68",
   "outputs": [
    {
     "name": "stdout",
     "output_type": "stream",
     "text": [
      "\n",
      "Retraining on full training set...\n",
      "Final model training complete!\n"
     ]
    },
    {
     "name": "stderr",
     "output_type": "stream",
     "text": [
      "/Users/hayden/Library/Python/3.9/lib/python/site-packages/sklearn/linear_model/_logistic.py:1247: FutureWarning: 'multi_class' was deprecated in version 1.5 and will be removed in 1.7. From then on, it will always use 'multinomial'. Leave it to its default value to avoid this warning.\n",
      "  warnings.warn(\n",
      "/Users/hayden/Library/Python/3.9/lib/python/site-packages/sklearn/linear_model/_linear_loss.py:203: RuntimeWarning: divide by zero encountered in matmul\n",
      "  raw_prediction = X @ weights.T + intercept  # ndarray, likely C-contiguous\n",
      "/Users/hayden/Library/Python/3.9/lib/python/site-packages/sklearn/linear_model/_linear_loss.py:203: RuntimeWarning: overflow encountered in matmul\n",
      "  raw_prediction = X @ weights.T + intercept  # ndarray, likely C-contiguous\n",
      "/Users/hayden/Library/Python/3.9/lib/python/site-packages/sklearn/linear_model/_linear_loss.py:203: RuntimeWarning: invalid value encountered in matmul\n",
      "  raw_prediction = X @ weights.T + intercept  # ndarray, likely C-contiguous\n",
      "/Users/hayden/Library/Python/3.9/lib/python/site-packages/sklearn/linear_model/_linear_loss.py:336: RuntimeWarning: divide by zero encountered in matmul\n",
      "  grad[:, :n_features] = grad_pointwise.T @ X + l2_reg_strength * weights\n",
      "/Users/hayden/Library/Python/3.9/lib/python/site-packages/sklearn/linear_model/_linear_loss.py:336: RuntimeWarning: overflow encountered in matmul\n",
      "  grad[:, :n_features] = grad_pointwise.T @ X + l2_reg_strength * weights\n",
      "/Users/hayden/Library/Python/3.9/lib/python/site-packages/sklearn/linear_model/_linear_loss.py:336: RuntimeWarning: invalid value encountered in matmul\n",
      "  grad[:, :n_features] = grad_pointwise.T @ X + l2_reg_strength * weights\n"
     ]
    }
   ],
   "execution_count": 97
  },
  {
   "metadata": {
    "ExecuteTime": {
     "end_time": "2025-10-12T17:29:44.734317Z",
     "start_time": "2025-10-12T17:29:44.725750Z"
    }
   },
   "cell_type": "code",
   "source": [
    "# Load test data\n",
    "test_df = pd.read_csv('../data/test.csv')\n",
    "print(f\"\\nTest data shape: {test_df.shape}\")\n",
    "\n",
    "# Store test IDs if present\n",
    "if 'Id' in test_df.columns:\n",
    "    test_ids = test_df['Id'].copy()\n",
    "    test_df_processed = test_df.drop(columns=['Id'])\n",
    "else:\n",
    "    test_ids = None\n",
    "    test_df_processed = test_df.copy()"
   ],
   "id": "c36bd0481bbadad1",
   "outputs": [
    {
     "name": "stdout",
     "output_type": "stream",
     "text": [
      "\n",
      "Test data shape: (1459, 80)\n"
     ]
    }
   ],
   "execution_count": 98
  },
  {
   "metadata": {
    "ExecuteTime": {
     "end_time": "2025-10-12T17:32:32.054748Z",
     "start_time": "2025-10-12T17:32:32.040364Z"
    }
   },
   "cell_type": "code",
   "source": [
    "# Preprocess test data (same steps as training data)\n",
    "# Handle missing values\n",
    "test_numeric = test_df_processed.select_dtypes(include=[np.number]).columns.tolist()\n",
    "test_categorical = test_df_processed.select_dtypes(include=['object']).columns.tolist()\n",
    "\n",
    "for col in test_numeric:\n",
    "    if test_df_processed[col].isnull().any():\n",
    "        # Use training data statistics for consistency\n",
    "        fill_value = X[col].median() if col in X.columns else test_df_processed[col].median()\n",
    "        test_df_processed[col].fillna(fill_value, inplace=True)\n",
    "\n",
    "for col in test_categorical:\n",
    "    if test_df_processed[col].isnull().any():\n",
    "        fill_value = X[col].mode()[0] if col in X.columns else test_df_processed[col].mode()[0]\n",
    "        test_df_processed[col].fillna(fill_value, inplace=True)\n",
    "\n",
    "print(f\"\\nMissing values in test set after imputation: {test_df_processed.isnull().sum().sum()}\")"
   ],
   "id": "1e09a47203a0f5f",
   "outputs": [
    {
     "name": "stdout",
     "output_type": "stream",
     "text": [
      "\n",
      "Missing values in test set after imputation: 0\n"
     ]
    }
   ],
   "execution_count": 114
  },
  {
   "metadata": {
    "ExecuteTime": {
     "end_time": "2025-10-12T17:29:44.771387Z",
     "start_time": "2025-10-12T17:29:44.760376Z"
    }
   },
   "cell_type": "code",
   "source": [
    "# Encode categorical variables\n",
    "test_encoded = pd.get_dummies(test_df_processed, columns=test_categorical, drop_first=True)"
   ],
   "id": "ceb6fe4c6dd4814c",
   "outputs": [],
   "execution_count": 100
  },
  {
   "metadata": {
    "ExecuteTime": {
     "end_time": "2025-10-12T17:29:44.780484Z",
     "start_time": "2025-10-12T17:29:44.775344Z"
    }
   },
   "cell_type": "code",
   "source": [
    "# Align test set columns with training set\n",
    "# Add missing columns with 0s\n",
    "missing_cols = set(X_encoded.columns) - set(test_encoded.columns)\n",
    "for col in missing_cols:\n",
    "    test_encoded[col] = 0\n",
    "\n",
    "# Remove extra columns not in training\n",
    "extra_cols = set(test_encoded.columns) - set(X_encoded.columns)\n",
    "test_encoded = test_encoded.drop(columns=list(extra_cols))\n",
    "\n",
    "# Reorder columns to match training data\n",
    "test_encoded = test_encoded[X_encoded.columns]"
   ],
   "id": "6283f0f9012a1c9e",
   "outputs": [],
   "execution_count": 101
  },
  {
   "metadata": {
    "ExecuteTime": {
     "end_time": "2025-10-12T17:32:37.195322Z",
     "start_time": "2025-10-12T17:32:37.177810Z"
    }
   },
   "cell_type": "code",
   "source": [
    "# Scale test features\n",
    "X_test_scaled = scaler.transform(test_encoded)\n",
    "\n",
    "# Make predictions\n",
    "y_pred_test = lgr_final.predict(X_test_scaled)\n",
    "y_pred_proba_test = lgr_final.predict_proba(X_test_scaled)\n",
    "\n",
    "print(f\"\\nTest set predictions complete!\")\n",
    "print(f\"\\nPredicted category distribution:\")\n",
    "unique, counts = np.unique(y_pred_test, return_counts=True)\n",
    "for cat, count in zip(unique, counts):\n",
    "    cat_name = ['Low', 'Medium', 'High'][cat]\n",
    "    print(f\"  {cat_name} ({cat}): {count} ({count/len(y_pred_test)*100:.1f}%)\")"
   ],
   "id": "c821e052d53c0e32",
   "outputs": [
    {
     "name": "stdout",
     "output_type": "stream",
     "text": [
      "\n",
      "Test set predictions complete!\n",
      "\n",
      "Predicted category distribution:\n",
      "  Low (0): 105 (7.2%)\n",
      "  Medium (1): 1341 (91.9%)\n",
      "  High (2): 13 (0.9%)\n"
     ]
    },
    {
     "name": "stderr",
     "output_type": "stream",
     "text": [
      "/Users/hayden/Library/Python/3.9/lib/python/site-packages/sklearn/utils/extmath.py:203: RuntimeWarning: divide by zero encountered in matmul\n",
      "  ret = a @ b\n",
      "/Users/hayden/Library/Python/3.9/lib/python/site-packages/sklearn/utils/extmath.py:203: RuntimeWarning: overflow encountered in matmul\n",
      "  ret = a @ b\n",
      "/Users/hayden/Library/Python/3.9/lib/python/site-packages/sklearn/utils/extmath.py:203: RuntimeWarning: invalid value encountered in matmul\n",
      "  ret = a @ b\n",
      "/Users/hayden/Library/Python/3.9/lib/python/site-packages/sklearn/utils/extmath.py:203: RuntimeWarning: divide by zero encountered in matmul\n",
      "  ret = a @ b\n",
      "/Users/hayden/Library/Python/3.9/lib/python/site-packages/sklearn/utils/extmath.py:203: RuntimeWarning: overflow encountered in matmul\n",
      "  ret = a @ b\n",
      "/Users/hayden/Library/Python/3.9/lib/python/site-packages/sklearn/utils/extmath.py:203: RuntimeWarning: invalid value encountered in matmul\n",
      "  ret = a @ b\n"
     ]
    }
   ],
   "execution_count": 115
  },
  {
   "metadata": {
    "ExecuteTime": {
     "end_time": "2025-10-12T17:29:44.806107Z",
     "start_time": "2025-10-12T17:29:44.802033Z"
    }
   },
   "cell_type": "code",
   "source": [
    "# Create results dataframe\n",
    "results_df = pd.DataFrame({\n",
    "    'PredictedCategory': y_pred_test,\n",
    "    'CategoryName': [['Low', 'Medium', 'High'][cat] for cat in y_pred_test],\n",
    "    'Probability_Low': y_pred_proba_test[:, 0],\n",
    "    'Probability_Medium': y_pred_proba_test[:, 1],\n",
    "    'Probability_High': y_pred_proba_test[:, 2]\n",
    "})\n",
    "\n",
    "if test_ids is not None:\n",
    "    results_df.insert(0, 'Id', test_ids.values)\n",
    "\n",
    "print(\"\\nFirst 10 predictions:\")\n",
    "print(results_df.head(10))"
   ],
   "id": "2b43f0092cb738ad",
   "outputs": [
    {
     "name": "stdout",
     "output_type": "stream",
     "text": [
      "\n",
      "First 10 predictions:\n",
      "     Id  PredictedCategory CategoryName  Probability_Low  Probability_Medium  \\\n",
      "0  1461                  1       Medium     8.473029e-06            0.999992   \n",
      "1  1462                  1       Medium     2.190665e-16            1.000000   \n",
      "2  1463                  1       Medium     1.268859e-13            1.000000   \n",
      "3  1464                  1       Medium     3.020613e-14            1.000000   \n",
      "4  1465                  1       Medium     5.461354e-06            0.999995   \n",
      "5  1466                  1       Medium     2.901081e-12            1.000000   \n",
      "6  1467                  1       Medium     3.324247e-13            1.000000   \n",
      "7  1468                  1       Medium     6.808423e-12            1.000000   \n",
      "8  1469                  1       Medium     7.934177e-14            1.000000   \n",
      "9  1470                  1       Medium     7.829739e-04            0.999217   \n",
      "\n",
      "   Probability_High  \n",
      "0      7.957826e-18  \n",
      "1      9.062982e-18  \n",
      "2      1.209018e-12  \n",
      "3      2.454606e-11  \n",
      "4      4.098766e-12  \n",
      "5      1.917182e-13  \n",
      "6      5.097440e-14  \n",
      "7      6.544731e-14  \n",
      "8      9.711166e-13  \n",
      "9      2.773946e-14  \n"
     ]
    }
   ],
   "execution_count": 103
  },
  {
   "metadata": {
    "ExecuteTime": {
     "end_time": "2025-10-12T17:29:44.815010Z",
     "start_time": "2025-10-12T17:29:44.812608Z"
    }
   },
   "cell_type": "code",
   "source": [
    "print(\"\\n\" + \"=\"*60)\n",
    "print(\"MODEL SUMMARY\")\n",
    "print(\"=\"*60)\n",
    "print(f\"Model Type: Logistic Regression (Multinomial)\")\n",
    "print(f\"Number of features: {X_encoded.shape[1]}\")\n",
    "print(f\"Number of classes: 3 (Low, Medium, High)\")\n",
    "print(f\"Training samples: {len(X_train)}\")\n",
    "print(f\"Validation samples: {len(X_val)}\")\n",
    "print(f\"Test samples: {len(test_df)}\")\n",
    "print(f\"\\nValidation Accuracy: {accuracy_val:.4f} ({accuracy_val*100:.2f}%)\")\n",
    "print(f\"\\nCategory Thresholds:\")\n",
    "print(f\"  Low: < ${low_threshold:,.0f}\")\n",
    "print(f\"  Medium: ${low_threshold:,.0f} - ${high_threshold:,.0f}\")\n",
    "print(f\"  High: > ${high_threshold:,.0f}\")\n",
    "print(\"=\"*60)"
   ],
   "id": "5b217618d7ccb630",
   "outputs": [
    {
     "name": "stdout",
     "output_type": "stream",
     "text": [
      "\n",
      "============================================================\n",
      "MODEL SUMMARY\n",
      "============================================================\n",
      "Model Type: Logistic Regression (Multinomial)\n",
      "Number of features: 244\n",
      "Number of classes: 3 (Low, Medium, High)\n",
      "Training samples: 1095\n",
      "Validation samples: 365\n",
      "Test samples: 1459\n",
      "\n",
      "Validation Accuracy: 0.8082 (80.82%)\n",
      "\n",
      "Category Thresholds:\n",
      "  Low: < $139,000\n",
      "  Medium: $139,000 - $191,000\n",
      "  High: > $191,000\n",
      "============================================================\n"
     ]
    }
   ],
   "execution_count": 104
  }
 ],
 "metadata": {
  "kernelspec": {
   "display_name": "Python 3",
   "language": "python",
   "name": "python3"
  },
  "language_info": {
   "codemirror_mode": {
    "name": "ipython",
    "version": 2
   },
   "file_extension": ".py",
   "mimetype": "text/x-python",
   "name": "python",
   "nbconvert_exporter": "python",
   "pygments_lexer": "ipython2",
   "version": "2.7.6"
  }
 },
 "nbformat": 4,
 "nbformat_minor": 5
}
