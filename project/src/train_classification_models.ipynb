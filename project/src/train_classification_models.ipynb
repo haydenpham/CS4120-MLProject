{
 "cells": [
  {
   "metadata": {
    "collapsed": true
   },
   "cell_type": "markdown",
   "source": "We will train classification models (Logistic Regression and Naive Bayes) on the preprocessed dataset and evaluate their performance on training, validation, and test sets.",
   "id": "2e8d1e1c05ac2bb"
  },
  {
   "metadata": {
    "ExecuteTime": {
     "end_time": "2025-10-27T22:45:02.381013Z",
     "start_time": "2025-10-27T22:45:01.920912Z"
    }
   },
   "cell_type": "code",
   "source": [
    "import pandas as pd\n",
    "import matplotlib.pyplot as plt\n",
    "import seaborn as sns\n",
    "from sklearn.model_selection import train_test_split, cross_val_score\n",
    "from sklearn.pipeline import Pipeline\n",
    "from sklearn.preprocessing import StandardScaler\n",
    "from sklearn.impute import SimpleImputer\n",
    "from sklearn.compose import ColumnTransformer\n",
    "from sklearn.preprocessing import OneHotEncoder\n",
    "from sklearn.naive_bayes import GaussianNB\n",
    "from sklearn.linear_model import LogisticRegression\n",
    "from sklearn.metrics import accuracy_score, confusion_matrix, f1_score\n",
    "import numpy as np\n",
    "import warnings\n",
    "import mlflow.sklearn\n",
    "warnings.filterwarnings('ignore')"
   ],
   "id": "238af3acd8dcb4fa",
   "outputs": [
    {
     "name": "stderr",
     "output_type": "stream",
     "text": [
      "/Users/hayden/Library/Python/3.9/lib/python/site-packages/urllib3/__init__.py:35: NotOpenSSLWarning: urllib3 v2 only supports OpenSSL 1.1.1+, currently the 'ssl' module is compiled with 'LibreSSL 2.8.3'. See: https://github.com/urllib3/urllib3/issues/3020\n",
      "  warnings.warn(\n"
     ]
    }
   ],
   "execution_count": 1
  },
  {
   "metadata": {
    "ExecuteTime": {
     "end_time": "2025-10-27T22:45:02.384948Z",
     "start_time": "2025-10-27T22:45:02.383593Z"
    }
   },
   "cell_type": "code",
   "source": [
    "# Random State\n",
    "RNG = 42"
   ],
   "id": "5ffd15b88fcebb3b",
   "outputs": [],
   "execution_count": 2
  },
  {
   "metadata": {
    "ExecuteTime": {
     "end_time": "2025-10-27T22:45:02.398102Z",
     "start_time": "2025-10-27T22:45:02.387646Z"
    }
   },
   "cell_type": "code",
   "source": [
    "mlflow.end_run()\n",
    "mlflow.set_experiment(\"classification_models\")"
   ],
   "id": "3f39d90604b958b4",
   "outputs": [
    {
     "data": {
      "text/plain": [
       "<Experiment: artifact_location='file:///Users/hayden/UPEI/CS4120_ML/CS4120-MLProject/project/src/mlruns/379033497988179480', creation_time=1761583449178, experiment_id='379033497988179480', last_update_time=1761583449178, lifecycle_stage='active', name='classification_models', tags={}>"
      ]
     },
     "execution_count": 3,
     "metadata": {},
     "output_type": "execute_result"
    }
   ],
   "execution_count": 3
  },
  {
   "metadata": {
    "ExecuteTime": {
     "end_time": "2025-10-27T22:45:02.412961Z",
     "start_time": "2025-10-27T22:45:02.404959Z"
    }
   },
   "cell_type": "code",
   "source": [
    "# Step 1: Load the data\n",
    "df = pd.read_csv(\"../data/train.csv\")"
   ],
   "id": "b4f41577e907017a",
   "outputs": [],
   "execution_count": 4
  },
  {
   "metadata": {
    "ExecuteTime": {
     "end_time": "2025-10-27T22:45:02.421795Z",
     "start_time": "2025-10-27T22:45:02.416334Z"
    }
   },
   "cell_type": "code",
   "source": [
    "from project.src.utils import classify_price\n",
    "\n",
    "# Step 2: Process Data\n",
    "df['PriceCategory'] = df['SalePrice'].apply(classify_price)\n",
    "\n",
    "print(\"PriceCategory distribution:\")\n",
    "print(df['PriceCategory'].value_counts())\n",
    "\n",
    "# Remove Id and SalePrice columns\n",
    "df = df.drop(['Id', 'SalePrice'], axis=1)\n",
    "\n",
    "# Separate features and target\n",
    "X = df.drop('PriceCategory', axis=1)\n",
    "y = df['PriceCategory']"
   ],
   "id": "ee89a8e6813cbdad",
   "outputs": [
    {
     "name": "stdout",
     "output_type": "stream",
     "text": [
      "PriceCategory distribution:\n",
      "PriceCategory\n",
      "1    509\n",
      "2    479\n",
      "0    472\n",
      "Name: count, dtype: int64\n"
     ]
    }
   ],
   "execution_count": 5
  },
  {
   "metadata": {
    "ExecuteTime": {
     "end_time": "2025-10-27T22:45:02.427048Z",
     "start_time": "2025-10-27T22:45:02.424778Z"
    }
   },
   "cell_type": "code",
   "source": [
    "# Handle numeric and categorical features differently\n",
    "numeric_features = X.select_dtypes(include=['int64', 'float64']).columns.tolist()\n",
    "categorical_features = X.select_dtypes(include=['object']).columns.tolist()"
   ],
   "id": "75af6b2b32fa2eac",
   "outputs": [],
   "execution_count": 6
  },
  {
   "metadata": {
    "ExecuteTime": {
     "end_time": "2025-10-27T22:45:02.431380Z",
     "start_time": "2025-10-27T22:45:02.429600Z"
    }
   },
   "cell_type": "code",
   "source": [
    "# Pre-processing pipelines\n",
    "numeric_transformer = Pipeline(steps=[\n",
    "    ('imputer', SimpleImputer(strategy='median'))\n",
    "])\n",
    "\n",
    "categorical_transformer = Pipeline(steps=[\n",
    "    ('imputer', SimpleImputer(strategy='most_frequent')),\n",
    "    ('onehot', OneHotEncoder(handle_unknown='ignore', sparse_output=False))\n",
    "])\n",
    "\n",
    "preprocessor = ColumnTransformer(\n",
    "    transformers=[\n",
    "        ('num', numeric_transformer, numeric_features),\n",
    "        ('cat', categorical_transformer, categorical_features)\n",
    "    ])"
   ],
   "id": "4ec9f623ccfeab15",
   "outputs": [],
   "execution_count": 7
  },
  {
   "metadata": {
    "ExecuteTime": {
     "end_time": "2025-10-27T22:45:02.437200Z",
     "start_time": "2025-10-27T22:45:02.433765Z"
    }
   },
   "cell_type": "code",
   "source": [
    "# Step 3: Split Data into Train (80%), Test (20%)\n",
    "X_train, X_test, y_train, y_test = train_test_split(\n",
    "    X, y, test_size=0.2, random_state=RNG, stratify=y\n",
    ")"
   ],
   "id": "90929d7d07eba9c4",
   "outputs": [],
   "execution_count": 8
  },
  {
   "metadata": {
    "ExecuteTime": {
     "end_time": "2025-10-27T22:45:02.710763Z",
     "start_time": "2025-10-27T22:45:02.441132Z"
    }
   },
   "cell_type": "code",
   "source": [
    "# Step 4: Train Naive Bayes Model and apply 4-fold cross-validation\n",
    "with mlflow.start_run(run_name=\"Naive_Bayes\"):\n",
    "    mlflow.log_param(\"model_type\", \"GaussianNB\")\n",
    "    mlflow.log_param(\"cv_folds\", 4)\n",
    "    mlflow.log_param(\"test_size\", 0.2)\n",
    "    mlflow.log_param(\"random_state\", RNG)\n",
    "\n",
    "    nb_pipeline = Pipeline([\n",
    "        ('preprocessor', preprocessor),\n",
    "        ('classifier', GaussianNB())\n",
    "    ])\n",
    "    nb_pipeline.fit(X_train, y_train)\n",
    "    cv_scores_nb = cross_val_score(nb_pipeline, X_train, y_train, cv=4, scoring='accuracy')\n",
    "\n",
    "    mlflow.log_metric(\"cv_mean_accuracy\", cv_scores_nb.mean())\n",
    "    mlflow.log_metric(\"cv_std_accuracy\", cv_scores_nb.std())\n",
    "\n",
    "    print(f\"Cross-validation scores: {cv_scores_nb}\")\n",
    "    print(f\"Mean CV accuracy: {cv_scores_nb.mean():.4f}\")\n",
    "\n",
    "    # Step 5: Evaluate Model Accuracy\n",
    "    y_train_pred_nb = nb_pipeline.predict(X_train)\n",
    "    train_accuracy_nb = accuracy_score(y_train, y_train_pred_nb)\n",
    "    train_f1_nb = f1_score(y_train, y_train_pred_nb, average='weighted')\n",
    "\n",
    "    mlflow.log_metric(\"train_accuracy\", train_accuracy_nb)\n",
    "    mlflow.log_metric(\"train_f1\", train_f1_nb)\n",
    "\n",
    "    print(f\"\\nTraining accuracy: {train_accuracy_nb:.4f}\")\n",
    "    print(f\"Training F1 (weighted): {train_f1_nb:.4f}\")\n",
    "\n",
    "    y_test_pred_nb = nb_pipeline.predict(X_test)\n",
    "    test_accuracy_nb = accuracy_score(y_test, y_test_pred_nb)\n",
    "    test_f1_nb = f1_score(y_test, y_test_pred_nb, average='weighted')\n",
    "\n",
    "    mlflow.log_metric(\"test_accuracy\", test_accuracy_nb)\n",
    "    mlflow.log_metric(\"test_f1\", test_f1_nb)\n",
    "\n",
    "    print(f\"Test accuracy: {test_accuracy_nb:.4f}\")\n",
    "    print(f\"Test F1 (weighted): {test_f1_nb:.4f}\")\n",
    "\n",
    "    print(\"\\nConfusion Matrix (Test Set):\")\n",
    "    cm_nb = confusion_matrix(y_test, y_test_pred_nb)\n",
    "    print(cm_nb)\n",
    "    print(\"\\nClasses: 0 - Low, 1 - Medium, 2 - High\")\n",
    "\n",
    "    plt.figure(figsize=(8, 6))\n",
    "    sns.heatmap(cm_nb, annot=True, fmt='d', cmap='Blues',\n",
    "                xticklabels=['Low', 'Medium', 'High'],\n",
    "                yticklabels=['Low', 'Medium', 'High'])\n",
    "    plt.title('Naive Bayes - Confusion Matrix (Test Set)', fontsize=14, fontweight='bold')\n",
    "    plt.ylabel('Actual', fontsize=12)\n",
    "    plt.xlabel('Predicted', fontsize=12)\n",
    "    plt.tight_layout()\n",
    "\n",
    "    mlflow.log_figure(plt.gcf(), 'nb_confusion_matrix.png')\n",
    "    plt.show()\n",
    "\n",
    "    print(\"Naive Bayes model logged to MLflow\")"
   ],
   "id": "8e8206a4a7dea5bf",
   "outputs": [
    {
     "name": "stdout",
     "output_type": "stream",
     "text": [
      "Cross-validation scores: [0.74315068 0.71917808 0.78082192 0.75684932]\n",
      "Mean CV accuracy: 0.7500\n",
      "\n",
      "Training accuracy: 0.7577\n",
      "Training F1 (weighted): 0.7459\n",
      "Test accuracy: 0.7500\n",
      "Test F1 (weighted): 0.7408\n",
      "\n",
      "Confusion Matrix (Test Set):\n",
      "[[85  9  0]\n",
      " [25 54 23]\n",
      " [ 2 14 80]]\n",
      "\n",
      "Classes: 0 - Low, 1 - Medium, 2 - High\n"
     ]
    },
    {
     "data": {
      "text/plain": [
       "<Figure size 800x600 with 2 Axes>"
      ],
      "image/png": "[encoded data removed]"
     },
     "metadata": {},
     "output_type": "display_data",
     "jetTransient": {
      "display_id": null
     }
    },
    {
     "name": "stdout",
     "output_type": "stream",
     "text": [
      "Naive Bayes model logged to MLflow\n"
     ]
    }
   ],
   "execution_count": 9
  },
  {
   "metadata": {
    "ExecuteTime": {
     "end_time": "2025-10-27T22:45:02.993524Z",
     "start_time": "2025-10-27T22:45:02.716207Z"
    }
   },
   "cell_type": "code",
   "source": [
    "# Step 6: Train Logistic Regression Model and apply 4-fold cross-validation\n",
    "with mlflow.start_run(run_name=\"Logistic_Regression\"):\n",
    "    mlflow.log_param(\"model_type\", \"LogisticRegression\")\n",
    "    mlflow.log_param(\"max_iter\", 1000)\n",
    "    mlflow.log_param(\"cv_folds\", 4)\n",
    "    mlflow.log_param(\"test_size\", 0.2)\n",
    "    mlflow.log_param(\"random_state\", RNG)\n",
    "    mlflow.log_param(\"scaler\", \"StandardScaler\")\n",
    "\n",
    "    lr_pipeline = Pipeline([\n",
    "        ('preprocessor', preprocessor),\n",
    "        ('scaler', StandardScaler()),\n",
    "        ('classifier', LogisticRegression(max_iter=1000, random_state=RNG))\n",
    "    ])\n",
    "    lr_pipeline.fit(X_train, y_train)\n",
    "\n",
    "    # Step 7: Evaluate Model Accuracy\n",
    "    cv_scores_lr = cross_val_score(lr_pipeline, X_train, y_train, cv=4, scoring='accuracy')\n",
    "\n",
    "    # Log cross-validation metrics\n",
    "    mlflow.log_metric(\"cv_mean_accuracy\", cv_scores_lr.mean())\n",
    "    mlflow.log_metric(\"cv_std_accuracy\", cv_scores_lr.std())\n",
    "\n",
    "    print(f\"Cross-validation scores: {cv_scores_lr}\")\n",
    "    print(f\"Mean CV accuracy: {cv_scores_lr.mean():.4f}\")\n",
    "\n",
    "    y_train_pred_lr = lr_pipeline.predict(X_train)\n",
    "    train_accuracy_lr = accuracy_score(y_train, y_train_pred_lr)\n",
    "    train_f1_lr = f1_score(y_train, y_train_pred_lr, average='weighted')\n",
    "\n",
    "    mlflow.log_metric(\"train_accuracy\", train_accuracy_lr)\n",
    "    mlflow.log_metric(\"train_f1\", train_f1_lr)\n",
    "\n",
    "    print(f\"\\nTraining accuracy: {train_accuracy_lr:.4f}\")\n",
    "    print(f\"Training F1 (weighted): {train_f1_lr:.4f}\")\n",
    "\n",
    "    y_test_pred_lr = lr_pipeline.predict(X_test)\n",
    "    test_accuracy_lr = accuracy_score(y_test, y_test_pred_lr)\n",
    "    test_f1_lr = f1_score(y_test, y_test_pred_lr, average='weighted')\n",
    "\n",
    "    mlflow.log_metric(\"test_accuracy\", test_accuracy_lr)\n",
    "    mlflow.log_metric(\"test_f1\", test_f1_lr)\n",
    "\n",
    "    print(f\"Test accuracy: {test_accuracy_lr:.4f}\")\n",
    "    print(f\"Test F1 (weighted): {test_f1_lr:.4f}\")\n",
    "\n",
    "    print(\"\\nConfusion Matrix (Test Set):\")\n",
    "    cm_lr = confusion_matrix(y_test, y_test_pred_lr)\n",
    "    print(cm_lr)\n",
    "    print(\"\\nClasses: 0 - Low, 1 - Medium, 2 - High\")\n",
    "\n",
    "    plt.figure(figsize=(8, 6))\n",
    "    sns.heatmap(cm_lr, annot=True, fmt='d', cmap='Blues',\n",
    "                xticklabels=['Low', 'Medium', 'High'],\n",
    "                yticklabels=['Low', 'Medium', 'High'])\n",
    "    plt.title('Logistic Regression - Confusion Matrix (Test Set)', fontsize=14, fontweight='bold')\n",
    "    plt.ylabel('Actual', fontsize=12)\n",
    "    plt.xlabel('Predicted', fontsize=12)\n",
    "    plt.tight_layout()\n",
    "\n",
    "    mlflow.log_figure(plt.gcf(), 'lr_confusion_matrix.png')\n",
    "    plt.show()\n",
    "\n",
    "    print(\"Logistic Regression model logged to MLflow\")"
   ],
   "id": "8f6516b14b9152ec",
   "outputs": [
    {
     "name": "stdout",
     "output_type": "stream",
     "text": [
      "Cross-validation scores: [0.76369863 0.79109589 0.79109589 0.80479452]\n",
      "Mean CV accuracy: 0.7877\n",
      "\n",
      "Training accuracy: 0.9717\n",
      "Training F1 (weighted): 0.9717\n",
      "Test accuracy: 0.7945\n",
      "Test F1 (weighted): 0.7951\n",
      "\n",
      "Confusion Matrix (Test Set):\n",
      "[[72 21  1]\n",
      " [13 76 13]\n",
      " [ 1 11 84]]\n",
      "\n",
      "Classes: 0 - Low, 1 - Medium, 2 - High\n"
     ]
    },
    {
     "data": {
      "text/plain": [
       "<Figure size 800x600 with 2 Axes>"
      ],
      "image/png": "[encoded data removed]"
     },
     "metadata": {},
     "output_type": "display_data",
     "jetTransient": {
      "display_id": null
     }
    },
    {
     "name": "stdout",
     "output_type": "stream",
     "text": [
      "Logistic Regression model logged to MLflow\n"
     ]
    }
   ],
   "execution_count": 10
  },
  {
   "metadata": {
    "ExecuteTime": {
     "end_time": "2025-10-27T22:45:03.001557Z",
     "start_time": "2025-10-27T22:45:02.999298Z"
    }
   },
   "cell_type": "code",
   "source": [
    "# Summary\n",
    "print(f\"\\nNaive Bayes:\")\n",
    "print(f\"  - Mean CV Accuracy: {cv_scores_nb.mean():.4f} (+/- {cv_scores_nb.std():.4f})\")\n",
    "print(f\"  - Training Accuracy: {train_accuracy_nb:.4f}\")\n",
    "print(f\"  - Test Accuracy: {test_accuracy_nb:.4f}\")\n",
    "\n",
    "print(f\"\\nLogistic Regression:\")\n",
    "print(f\"  - Mean CV Accuracy: {cv_scores_lr.mean():.4f} (+/- {cv_scores_lr.std():.4f})\")\n",
    "print(f\"  - Training Accuracy: {train_accuracy_lr:.4f}\")\n",
    "print(f\"  - Test Accuracy: {test_accuracy_lr:.4f}\")"
   ],
   "id": "588cc7c83f862590",
   "outputs": [
    {
     "name": "stdout",
     "output_type": "stream",
     "text": [
      "\n",
      "Naive Bayes:\n",
      "  - Mean CV Accuracy: 0.7500 (+/- 0.0223)\n",
      "  - Training Accuracy: 0.7577\n",
      "  - Test Accuracy: 0.7500\n",
      "\n",
      "Logistic Regression:\n",
      "  - Mean CV Accuracy: 0.7877 (+/- 0.0149)\n",
      "  - Training Accuracy: 0.9717\n",
      "  - Test Accuracy: 0.7945\n"
     ]
    }
   ],
   "execution_count": 11
  },
  {
   "cell_type": "code",
   "id": "feature_importance_code",
   "metadata": {
    "ExecuteTime": {
     "end_time": "2025-10-27T22:45:03.010226Z",
     "start_time": "2025-10-27T22:45:03.005849Z"
    }
   },
   "source": [
    "# Which features are most important in determining the house price?\n",
    "preprocessor_fitted = lr_pipeline.named_steps['preprocessor']\n",
    "num_feature_names = numeric_features\n",
    "cat_feature_names = preprocessor_fitted.named_transformers_['cat']['onehot'].get_feature_names_out(categorical_features).tolist()\n",
    "all_feature_names = num_feature_names + cat_feature_names\n",
    "\n",
    "# Get coefficients from Logistic Regression\n",
    "lr_classifier = lr_pipeline.named_steps['classifier']\n",
    "coefficients = lr_classifier.coef_\n",
    "\n",
    "# Calculate the average absolute coefficient across all classes\n",
    "avg_abs_coef = np.mean(np.abs(coefficients), axis=0)\n",
    "\n",
    "feature_importance_df = pd.DataFrame({\n",
    "    'Feature': all_feature_names,\n",
    "    'Importance': avg_abs_coef\n",
    "})\n",
    "\n",
    "feature_importance_df = feature_importance_df.sort_values('Importance', ascending=False)\n",
    "\n",
    "print(\"TOP 10 MOST IMPORTANT FEATURES (Logistic Regression)\")\n",
    "print(\"-\"*40)\n",
    "print(feature_importance_df.head(10).to_string(index=False))"
   ],
   "outputs": [
    {
     "name": "stdout",
     "output_type": "stream",
     "text": [
      "TOP 10 MOST IMPORTANT FEATURES (Logistic Regression)\n",
      "----------------------------------------\n",
      "             Feature  Importance\n",
      "           GrLivArea    1.214154\n",
      "          GarageArea    0.940231\n",
      "Neighborhood_Edwards    0.898715\n",
      "Neighborhood_Crawfor    0.873423\n",
      "            1stFlrSF    0.858167\n",
      "           YearBuilt    0.820557\n",
      "        TotRmsAbvGrd    0.733813\n",
      "         TotalBsmtSF    0.718077\n",
      "          BsmtFinSF1    0.715766\n",
      "            2ndFlrSF    0.694370\n"
     ]
    }
   ],
   "execution_count": 12
  },
  {
   "metadata": {
    "ExecuteTime": {
     "end_time": "2025-10-27T22:45:03.020660Z",
     "start_time": "2025-10-27T22:45:03.016231Z"
    }
   },
   "cell_type": "code",
   "source": [
    "# Train and Test Metrics and F1 Table\n",
    "metrics_data = {\n",
    "    'Model': ['Naive Bayes', 'Logistic Regression'],\n",
    "    'CV Accuracy': [\n",
    "        f\"{cv_scores_nb.mean():.4f}\",\n",
    "        f\"{cv_scores_lr.mean():.4f}\"\n",
    "    ],\n",
    "    'Train Accuracy': [train_accuracy_nb, train_accuracy_lr],\n",
    "    'Train F1': [train_f1_nb, train_f1_lr],\n",
    "    'Test Accuracy': [test_accuracy_nb, test_accuracy_lr],\n",
    "    'Test F1': [test_f1_nb, test_f1_lr],\n",
    "}\n",
    "\n",
    "metrics_df = pd.DataFrame(metrics_data)\n",
    "\n",
    "for col in ['Train Accuracy', 'Train F1', 'Test Accuracy', 'Test F1']:\n",
    "    metrics_df[col] = metrics_df[col].apply(lambda x: f\"{x:.4f}\")\n",
    "\n",
    "print(\"\\n\" + \"-\"*80)\n",
    "print(\"CLASSIFICATION METRICS FOR ALL MODELS: Accuracy, and F1 on Validation (CV) and Test\")\n",
    "print(\"-\"*80)\n",
    "print(metrics_df.to_string(index=False))\n",
    "print(\"-\"*80)"
   ],
   "id": "5b20f354e470b853",
   "outputs": [
    {
     "name": "stdout",
     "output_type": "stream",
     "text": [
      "\n",
      "--------------------------------------------------------------------------------\n",
      "CLASSIFICATION METRICS FOR ALL MODELS: Accuracy, and F1 on Validation (CV) and Test\n",
      "--------------------------------------------------------------------------------\n",
      "              Model CV Accuracy Train Accuracy Train F1 Test Accuracy Test F1\n",
      "        Naive Bayes      0.7500         0.7577   0.7459        0.7500  0.7408\n",
      "Logistic Regression      0.7877         0.9717   0.9717        0.7945  0.7951\n",
      "--------------------------------------------------------------------------------\n"
     ]
    }
   ],
   "execution_count": 13
  },
  {
   "metadata": {
    "ExecuteTime": {
     "end_time": "2025-10-27T22:45:03.025820Z",
     "start_time": "2025-10-27T22:45:03.024323Z"
    }
   },
   "cell_type": "code",
   "source": "mlflow.end_run()",
   "id": "8db95e68a459645d",
   "outputs": [],
   "execution_count": 14
  }
 ],
 "metadata": {
  "kernelspec": {
   "display_name": "Python 3",
   "language": "python",
   "name": "python3"
  },
  "language_info": {
   "codemirror_mode": {
    "name": "ipython",
    "version": 2
   },
   "file_extension": ".py",
   "mimetype": "text/x-python",
   "name": "python",
   "nbconvert_exporter": "python",
   "pygments_lexer": "ipython2",
   "version": "2.7.6"
  }
 },
 "nbformat": 4,
 "nbformat_minor": 5
}
